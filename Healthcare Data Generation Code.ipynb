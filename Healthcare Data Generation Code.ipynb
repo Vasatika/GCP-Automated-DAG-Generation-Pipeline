{
 "cells": [
  {
   "cell_type": "markdown",
   "id": "9a724d7c",
   "metadata": {},
   "source": [
    "## Data Generation Code - Healthcare attributes example"
   ]
  },
  {
   "cell_type": "markdown",
   "id": "876adcdb",
   "metadata": {},
   "source": [
    "Step 1: Import Required Libraries"
   ]
  },
  {
   "cell_type": "code",
   "execution_count": 8,
   "id": "467c3ad3",
   "metadata": {},
   "outputs": [],
   "source": [
    "import pandas as pd\n",
    "import random\n",
    "from datetime import datetime, timedelta\n",
    "import os"
   ]
  },
  {
   "cell_type": "markdown",
   "id": "c3728035",
   "metadata": {},
   "source": [
    "Step 2: Configuration"
   ]
  },
  {
   "cell_type": "code",
   "execution_count": 9,
   "id": "d8224c82",
   "metadata": {},
   "outputs": [],
   "source": [
    "LOCAL_OUTPUT_DIR = \"generated_data\"\n",
    "os.makedirs(LOCAL_OUTPUT_DIR, exist_ok=True)\n"
   ]
  },
  {
   "cell_type": "markdown",
   "id": "1c0926e7",
   "metadata": {},
   "source": [
    "Step 3: Define Data Schema (Array)"
   ]
  },
  {
   "cell_type": "code",
   "execution_count": 10,
   "id": "6d31cb03",
   "metadata": {},
   "outputs": [],
   "source": [
    "fields_array = [\n",
    "    {\"field_name\": \"PatientID\", \"type\": \"string\"},\n",
    "    {\"field_name\": \"Name\", \"type\": \"string\"},\n",
    "    {\"field_name\": \"Age\", \"type\": \"integer\"},\n",
    "    {\"field_name\": \"Gender\", \"type\": \"string\"},\n",
    "    {\"field_name\": \"HospitalID\", \"type\": \"string\"},\n",
    "    {\"field_name\": \"Location\", \"type\": \"string\"},\n",
    "    {\"field_name\": \"AdmissionDate\", \"type\": \"date\"},\n",
    "    {\"field_name\": \"DischargeDate\", \"type\": \"date\"},\n",
    "    {\"field_name\": \"Department\", \"type\": \"string\"},\n",
    "    {\"field_name\": \"Vitals_BP\", \"type\": \"string\"},       # Flattened nested field\n",
    "    {\"field_name\": \"Vitals_Pulse\", \"type\": \"integer\"},   # Flattened nested field\n",
    "]"
   ]
  },
  {
   "cell_type": "markdown",
   "id": "a6b68347",
   "metadata": {},
   "source": [
    "Step 4: Function to Generate Record"
   ]
  },
  {
   "cell_type": "code",
   "execution_count": 11,
   "id": "d5c3e1be",
   "metadata": {},
   "outputs": [],
   "source": [
    "def generate_patient_record():\n",
    "    record = {}\n",
    "\n",
    "    for field in fields_array:\n",
    "        if field['type'] == 'string':\n",
    "            if field['field_name'] == 'Name':\n",
    "                record[field['field_name']] = random.choice(['John Doe', 'Alice Smith', 'Raj Patel', 'Emily Wang'])\n",
    "            elif field['field_name'] == 'Gender':\n",
    "                record[field['field_name']] = random.choice(['Male', 'Female', 'Other'])\n",
    "            elif field['field_name'] == 'HospitalID':\n",
    "                record[field['field_name']] = random.choice(['HOSP1001', 'HOSP1002', 'HOSP1003'])\n",
    "            elif field['field_name'] == 'Location':\n",
    "                record[field['field_name']] = random.choice(['New York', 'San Francisco', 'Chicago'])\n",
    "            elif field['field_name'] == 'Department':\n",
    "                record[field['field_name']] = random.choice(['Cardiology', 'Neurology', 'Pediatrics', 'Oncology'])\n",
    "            elif field['field_name'] == 'Vitals_BP':\n",
    "                record[field['field_name']] = f\"{random.randint(90, 130)}/{random.randint(60, 90)}\"\n",
    "            else:\n",
    "                record[field['field_name']] = f\"{field['field_name']}_{random.randint(1000, 9999)}\"\n",
    "\n",
    "        elif field['type'] == 'integer':\n",
    "            if field['field_name'] == 'Vitals_Pulse':\n",
    "                record[field['field_name']] = random.randint(60, 100)\n",
    "            else:\n",
    "                record[field['field_name']] = random.randint(1, 100)\n",
    "\n",
    "        elif field['type'] == 'date':\n",
    "            random_days = random.randint(1, 1000)\n",
    "            date_value = datetime.now() - timedelta(days=random_days)\n",
    "            record[field['field_name']] = date_value.strftime('%Y-%m-%d')\n",
    "\n",
    "    # Add partitioning and tracking fields\n",
    "    now = datetime.now()\n",
    "    record['record_created_date'] = now.strftime('%Y-%m-%d')  # For BQ partitioning\n",
    "    record['last_updated_timestamp'] = now.strftime('%Y-%m-%d %H:%M:%S')  # For auditing\n",
    "\n",
    "    return record"
   ]
  },
  {
   "cell_type": "markdown",
   "id": "337547e5",
   "metadata": {},
   "source": [
    "Step 5: Generate, Save to CSV, and run the code"
   ]
  },
  {
   "cell_type": "code",
   "execution_count": 12,
   "id": "aa17bc77",
   "metadata": {},
   "outputs": [],
   "source": [
    "def main():\n",
    "    print(\"Generating patient data records...\")\n",
    "    records = [generate_patient_record() for _ in range(1000)]\n",
    "    df = pd.DataFrame(records)\n",
    "\n",
    "    timestamp = datetime.now().strftime(\"%Y-%m-%d-%H\")\n",
    "    filename = f\"healthcare_patients_{timestamp}.csv\"\n",
    "    local_path = os.path.join(LOCAL_OUTPUT_DIR, filename)\n",
    "\n",
    "    df.to_csv(local_path, index=False)\n",
    "    print(f\"File saved locally at: {local_path}\")\n"
   ]
  },
  {
   "cell_type": "code",
   "execution_count": 13,
   "id": "3d61fe1d",
   "metadata": {},
   "outputs": [
    {
     "name": "stdout",
     "output_type": "stream",
     "text": [
      "Generating patient data records...\n",
      "File saved locally at: generated_data/healthcare_patients_2025-05-04-23.csv\n"
     ]
    }
   ],
   "source": [
    "main()"
   ]
  },
  {
   "cell_type": "code",
   "execution_count": null,
   "id": "6f4ad76c",
   "metadata": {},
   "outputs": [],
   "source": []
  },
  {
   "cell_type": "code",
   "execution_count": null,
   "id": "e52ce915",
   "metadata": {},
   "outputs": [],
   "source": []
  },
  {
   "cell_type": "code",
   "execution_count": null,
   "id": "641ff7d7",
   "metadata": {},
   "outputs": [],
   "source": []
  },
  {
   "cell_type": "code",
   "execution_count": null,
   "id": "f78e9963",
   "metadata": {},
   "outputs": [],
   "source": []
  },
  {
   "cell_type": "code",
   "execution_count": null,
   "id": "caa0886a",
   "metadata": {},
   "outputs": [],
   "source": []
  },
  {
   "cell_type": "code",
   "execution_count": null,
   "id": "598bbf50",
   "metadata": {},
   "outputs": [],
   "source": []
  },
  {
   "cell_type": "code",
   "execution_count": null,
   "id": "7ce649af",
   "metadata": {},
   "outputs": [],
   "source": []
  }
 ],
 "metadata": {
  "kernelspec": {
   "display_name": "Python 3 (ipykernel)",
   "language": "python",
   "name": "python3"
  },
  "language_info": {
   "codemirror_mode": {
    "name": "ipython",
    "version": 3
   },
   "file_extension": ".py",
   "mimetype": "text/x-python",
   "name": "python",
   "nbconvert_exporter": "python",
   "pygments_lexer": "ipython3",
   "version": "3.11.5"
  }
 },
 "nbformat": 4,
 "nbformat_minor": 5
}
